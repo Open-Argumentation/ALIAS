{
 "cells": [
  {
   "cell_type": "code",
   "execution_count": null,
   "metadata": {},
   "outputs": [],
   "source": [
    "# import local module to track changes\n",
    "import os\n",
    "import sys\n",
    "module_path = os.path.abspath(os.path.join('..'))\n",
    "if module_path not in sys.path:\n",
    "    sys.path.append(module_path)"
   ]
  },
  {
   "cell_type": "markdown",
   "metadata": {},
   "source": [
    "First, import the library and create a blank abstract argumentation framework:"
   ]
  },
  {
   "cell_type": "markdown",
   "metadata": {},
   "source": [
    "# Welcome to the ALIAS Demonstration Notebook!\n",
    "This Ipython Notebook aims to demonstrate the key functionality of the ALIAS library."
   ]
  },
  {
   "cell_type": "code",
   "execution_count": null,
   "metadata": {
    "collapsed": false
   },
   "outputs": [],
   "source": [
    "import alias as al\n",
    "example = al.ArgumentationFramework('Example')"
   ]
  },
  {
   "cell_type": "markdown",
   "metadata": {},
   "source": [
    "Lets add a few arguments to the framework we've called 'Example':"
   ]
  },
  {
   "cell_type": "code",
   "execution_count": null,
   "metadata": {
    "collapsed": false
   },
   "outputs": [],
   "source": [
    "example.add_argument('a')\n",
    "example.add_argument('b')\n",
    "example.add_argument('c')\n",
    "# Arguments can also be passed as a list or tuple\n",
    "# e.g: example.add_argument(['a','b,'c'])"
   ]
  },
  {
   "cell_type": "markdown",
   "metadata": {},
   "source": [
    "Now, lets create some attacks between these arguments:"
   ]
  },
  {
   "cell_type": "code",
   "execution_count": null,
   "metadata": {
    "collapsed": true
   },
   "outputs": [],
   "source": [
    "example.add_attack(('a','b'))\n",
    "example.add_attack(('b','c'))\n",
    "# Attacks can also be passed as a list or a tuple \n",
    "# by using the optional parameter 'atts'\n",
    "# e.g: example.add_attack(atts=[('a', 'b'), ('b', 'c')])  "
   ]
  },
  {
   "cell_type": "markdown",
   "metadata": {},
   "source": [
    "We have created an Argumentation Framework called example which contains three arguments and two attacks.  For a string representation of the Framework, simply call print on it:"
   ]
  },
  {
   "cell_type": "code",
   "execution_count": null,
   "metadata": {
    "collapsed": false
   },
   "outputs": [],
   "source": [
    "print(example)"
   ]
  },
  {
   "cell_type": "markdown",
   "metadata": {},
   "source": [
    "Argument objects belonging to a framework can be referenced by name like so:"
   ]
  },
  {
   "cell_type": "code",
   "execution_count": null,
   "metadata": {
    "collapsed": false
   },
   "outputs": [],
   "source": [
    "arga = example['a']\n",
    "print(example.get_attackers('b'))\n",
    "print(arga)"
   ]
  },
  {
   "cell_type": "markdown",
   "metadata": {},
   "source": [
    "ALIAS utilises NetworkX's drawing library to provide visual representations of Argumentation Frameworks.  Lets draw our AF 'example' using the `draw_graph()` function:"
   ]
  },
  {
   "cell_type": "code",
   "execution_count": null,
   "metadata": {
    "collapsed": false
   },
   "outputs": [],
   "source": [
    "example.draw_graph()"
   ]
  },
  {
   "cell_type": "markdown",
   "metadata": {},
   "source": [
    "Lets try some extension based semantics.  These functions generate SAT encoding for specified extension and produce the output using SAT solver."
   ]
  },
  {
   "cell_type": "code",
   "execution_count": null,
   "metadata": {
    "collapsed": false
   },
   "outputs": [],
   "source": [
    "print('Stable: ', example.get_stable_extension())\n",
    "print('Complete: ', example.get_complete_extension())\n",
    "print('Preferred: ', example.get_preferred_extension())"
   ]
  },
  {
   "cell_type": "markdown",
   "metadata": {},
   "source": [
    "ALIAS can perform file input and output operations on .apx, .dot and .tgf files.  Lets load an aspartix file to demonstrate this functionality."
   ]
  },
  {
   "cell_type": "code",
   "execution_count": null,
   "metadata": {
    "collapsed": false
   },
   "outputs": [],
   "source": [
    "exampleapx = al.read_apx('example-apx.apx')\n",
    "print(exampleapx)"
   ]
  },
  {
   "cell_type": "code",
   "execution_count": null,
   "metadata": {
    "collapsed": false
   },
   "outputs": [],
   "source": [
    "exampleapx.draw_graph()"
   ]
  },
  {
   "cell_type": "code",
   "execution_count": null,
   "metadata": {
    "collapsed": true
   },
   "outputs": [],
   "source": [
    "print('Stable: ', exampleapx.get_stable_extension())\n",
    "print('Complete: ', exampleapx.get_complete_extension())\n",
    "print('Preferred: ', exampleapx.get_preferred_extension())"
   ]
  }
 ],
 "metadata": {
  "interpreter": {
   "hash": "916dbcbb3f70747c44a77c7bcd40155683ae19c65e1c03b4aa3499c5328201f1"
  },
  "kernelspec": {
   "display_name": "Python 2",
   "language": "python",
   "name": "python3"
  },
  "language_info": {
   "codemirror_mode": {
    "name": "ipython",
    "version": 3
   },
   "file_extension": ".py",
   "mimetype": "text/x-python",
   "name": "python",
   "nbconvert_exporter": "python",
   "pygments_lexer": "ipython3",
   "version": "3.8.10"
  }
 },
 "nbformat": 4,
 "nbformat_minor": 0
}
